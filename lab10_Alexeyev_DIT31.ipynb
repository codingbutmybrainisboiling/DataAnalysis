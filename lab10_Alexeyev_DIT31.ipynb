{
 "cells": [
  {
   "cell_type": "markdown",
   "metadata": {},
   "source": [
    "# Графики\n",
    "\n",
    "Что делать, если данных много, а построить график хочется? Разглядывать сотни тысяч точек сложно. Значит, визуализировать нужно сгруппированные данные или срез. В этом уроке вы построите график по готовому срезу id == '3c1e4c52'. Начнём с основ.\n",
    "За построение графиков в Pandas отвечает метод **plot()** (англ. «график»). Вот простой пример:\n"
   ]
  },
  {
   "cell_type": "code",
   "execution_count": 1,
   "metadata": {
    "ExecuteTime": {
     "end_time": "2024-06-02T12:15:28.545337Z",
     "start_time": "2024-06-02T12:15:27.374849Z"
    }
   },
   "outputs": [
    {
     "name": "stdout",
     "output_type": "stream",
     "text": [
      "   a   b\n",
      "0  2   4\n",
      "1  3   9\n",
      "2  4  16\n",
      "3  5  25\n"
     ]
    },
    {
     "ename": "ImportError",
     "evalue": "matplotlib is required for plotting when the default backend \"matplotlib\" is selected.",
     "output_type": "error",
     "traceback": [
      "\u001b[1;31m---------------------------------------------------------------------------\u001b[0m",
      "\u001b[1;31mImportError\u001b[0m                               Traceback (most recent call last)",
      "Cell \u001b[1;32mIn[1], line 4\u001b[0m\n\u001b[0;32m      2\u001b[0m df \u001b[38;5;241m=\u001b[39m pd\u001b[38;5;241m.\u001b[39mDataFrame({\u001b[38;5;124m'\u001b[39m\u001b[38;5;124ma\u001b[39m\u001b[38;5;124m'\u001b[39m: [\u001b[38;5;241m2\u001b[39m, \u001b[38;5;241m3\u001b[39m, \u001b[38;5;241m4\u001b[39m, \u001b[38;5;241m5\u001b[39m], \u001b[38;5;124m'\u001b[39m\u001b[38;5;124mb\u001b[39m\u001b[38;5;124m'\u001b[39m: [\u001b[38;5;241m4\u001b[39m, \u001b[38;5;241m9\u001b[39m, \u001b[38;5;241m16\u001b[39m, \u001b[38;5;241m25\u001b[39m]})\n\u001b[0;32m      3\u001b[0m \u001b[38;5;28mprint\u001b[39m(df)\n\u001b[1;32m----> 4\u001b[0m \u001b[43mdf\u001b[49m\u001b[38;5;241;43m.\u001b[39;49m\u001b[43mplot\u001b[49m\u001b[43m(\u001b[49m\u001b[43m)\u001b[49m \n",
      "File \u001b[1;32m~\\Desktop\\DataAnalysis\\venv\\Lib\\site-packages\\pandas\\plotting\\_core.py:947\u001b[0m, in \u001b[0;36mPlotAccessor.__call__\u001b[1;34m(self, *args, **kwargs)\u001b[0m\n\u001b[0;32m    946\u001b[0m \u001b[38;5;28;01mdef\u001b[39;00m \u001b[38;5;21m__call__\u001b[39m(\u001b[38;5;28mself\u001b[39m, \u001b[38;5;241m*\u001b[39margs, \u001b[38;5;241m*\u001b[39m\u001b[38;5;241m*\u001b[39mkwargs):\n\u001b[1;32m--> 947\u001b[0m     plot_backend \u001b[38;5;241m=\u001b[39m \u001b[43m_get_plot_backend\u001b[49m\u001b[43m(\u001b[49m\u001b[43mkwargs\u001b[49m\u001b[38;5;241;43m.\u001b[39;49m\u001b[43mpop\u001b[49m\u001b[43m(\u001b[49m\u001b[38;5;124;43m\"\u001b[39;49m\u001b[38;5;124;43mbackend\u001b[39;49m\u001b[38;5;124;43m\"\u001b[39;49m\u001b[43m,\u001b[49m\u001b[43m \u001b[49m\u001b[38;5;28;43;01mNone\u001b[39;49;00m\u001b[43m)\u001b[49m\u001b[43m)\u001b[49m\n\u001b[0;32m    949\u001b[0m     x, y, kind, kwargs \u001b[38;5;241m=\u001b[39m \u001b[38;5;28mself\u001b[39m\u001b[38;5;241m.\u001b[39m_get_call_args(\n\u001b[0;32m    950\u001b[0m         plot_backend\u001b[38;5;241m.\u001b[39m\u001b[38;5;18m__name__\u001b[39m, \u001b[38;5;28mself\u001b[39m\u001b[38;5;241m.\u001b[39m_parent, args, kwargs\n\u001b[0;32m    951\u001b[0m     )\n\u001b[0;32m    953\u001b[0m     kind \u001b[38;5;241m=\u001b[39m \u001b[38;5;28mself\u001b[39m\u001b[38;5;241m.\u001b[39m_kind_aliases\u001b[38;5;241m.\u001b[39mget(kind, kind)\n",
      "File \u001b[1;32m~\\Desktop\\DataAnalysis\\venv\\Lib\\site-packages\\pandas\\plotting\\_core.py:1944\u001b[0m, in \u001b[0;36m_get_plot_backend\u001b[1;34m(backend)\u001b[0m\n\u001b[0;32m   1941\u001b[0m \u001b[38;5;28;01mif\u001b[39;00m backend_str \u001b[38;5;129;01min\u001b[39;00m _backends:\n\u001b[0;32m   1942\u001b[0m     \u001b[38;5;28;01mreturn\u001b[39;00m _backends[backend_str]\n\u001b[1;32m-> 1944\u001b[0m module \u001b[38;5;241m=\u001b[39m \u001b[43m_load_backend\u001b[49m\u001b[43m(\u001b[49m\u001b[43mbackend_str\u001b[49m\u001b[43m)\u001b[49m\n\u001b[0;32m   1945\u001b[0m _backends[backend_str] \u001b[38;5;241m=\u001b[39m module\n\u001b[0;32m   1946\u001b[0m \u001b[38;5;28;01mreturn\u001b[39;00m module\n",
      "File \u001b[1;32m~\\Desktop\\DataAnalysis\\venv\\Lib\\site-packages\\pandas\\plotting\\_core.py:1874\u001b[0m, in \u001b[0;36m_load_backend\u001b[1;34m(backend)\u001b[0m\n\u001b[0;32m   1872\u001b[0m         module \u001b[38;5;241m=\u001b[39m importlib\u001b[38;5;241m.\u001b[39mimport_module(\u001b[38;5;124m\"\u001b[39m\u001b[38;5;124mpandas.plotting._matplotlib\u001b[39m\u001b[38;5;124m\"\u001b[39m)\n\u001b[0;32m   1873\u001b[0m     \u001b[38;5;28;01mexcept\u001b[39;00m \u001b[38;5;167;01mImportError\u001b[39;00m:\n\u001b[1;32m-> 1874\u001b[0m         \u001b[38;5;28;01mraise\u001b[39;00m \u001b[38;5;167;01mImportError\u001b[39;00m(\n\u001b[0;32m   1875\u001b[0m             \u001b[38;5;124m\"\u001b[39m\u001b[38;5;124mmatplotlib is required for plotting when the \u001b[39m\u001b[38;5;124m\"\u001b[39m\n\u001b[0;32m   1876\u001b[0m             \u001b[38;5;124m'\u001b[39m\u001b[38;5;124mdefault backend \u001b[39m\u001b[38;5;124m\"\u001b[39m\u001b[38;5;124mmatplotlib\u001b[39m\u001b[38;5;124m\"\u001b[39m\u001b[38;5;124m is selected.\u001b[39m\u001b[38;5;124m'\u001b[39m\n\u001b[0;32m   1877\u001b[0m         ) \u001b[38;5;28;01mfrom\u001b[39;00m \u001b[38;5;28;01mNone\u001b[39;00m\n\u001b[0;32m   1878\u001b[0m     \u001b[38;5;28;01mreturn\u001b[39;00m module\n\u001b[0;32m   1880\u001b[0m found_backend \u001b[38;5;241m=\u001b[39m \u001b[38;5;28;01mFalse\u001b[39;00m\n",
      "\u001b[1;31mImportError\u001b[0m: matplotlib is required for plotting when the default backend \"matplotlib\" is selected."
     ]
    }
   ],
   "source": [
    "import pandas as pd\n",
    "df = pd.DataFrame({'a': [2, 3, 4, 5], 'b': [4, 9, 16, 25]})\n",
    "print(df)\n",
    "df.plot() "
   ]
  },
  {
   "cell_type": "markdown",
   "metadata": {},
   "source": [
    "Метод **plot()** построил графики по значениям столбцов из датафрейма. На оси абсцисс (x) расположились индексы, а на оси ординат (y) — значения столбцов.\n",
    "Названия для графиков указывают строкой или переменной в параметре **title** (англ. «название»):\n"
   ]
  },
  {
   "cell_type": "code",
   "execution_count": null,
   "metadata": {
    "ExecuteTime": {
     "end_time": "2024-06-02T12:15:28.548576Z",
     "start_time": "2024-06-02T12:15:28.547486Z"
    }
   },
   "outputs": [],
   "source": [
    "df.plot(title='A и B') "
   ]
  },
  {
   "cell_type": "markdown",
   "metadata": {},
   "source": [
    "Элементов в таблице слишком мало, чтобы они складывались в непрерывную линию. Добавим графику точности, передадим параметр **style**, со значением 'o', чтобы отметить значения таблицы точками."
   ]
  },
  {
   "cell_type": "code",
   "execution_count": null,
   "metadata": {
    "ExecuteTime": {
     "end_time": "2024-06-02T12:15:28.549640Z",
     "start_time": "2024-06-02T12:15:28.549640Z"
    }
   },
   "outputs": [],
   "source": [
    "df.plot(style='o') # 'o' похожа на кружок или точку, запомнить легко "
   ]
  },
  {
   "cell_type": "markdown",
   "metadata": {},
   "source": [
    "Можно задать и другую форму точек. Например, **style='х'** пометит точки крестиками:"
   ]
  },
  {
   "cell_type": "code",
   "execution_count": null,
   "metadata": {},
   "outputs": [],
   "source": [
    "df.plot(style='x') # 'x' - точь-в-точь крестик "
   ]
  },
  {
   "cell_type": "markdown",
   "metadata": {},
   "source": [
    "Когда нужен компромиссный вариант: и линии, и точки; передают -**style='o-'**."
   ]
  },
  {
   "cell_type": "code",
   "execution_count": null,
   "metadata": {
    "ExecuteTime": {
     "start_time": "2024-06-02T12:15:28.551758Z"
    }
   },
   "outputs": [],
   "source": [
    "df.plot(style='o-') # 'o-' - кружок и линия "
   ]
  },
  {
   "cell_type": "markdown",
   "metadata": {},
   "source": [
    "Напомним, что по горизонтальной оси отложены индексы. Но что, если такой способ представления не годится для анализа? Можно изменить сами индексы или передать методу **plot()** параметры осей. Так, оси абсцисс (x) присвоим значения столбца 'b', а оси ординат (y) — значения столбца 'a':"
   ]
  },
  {
   "cell_type": "code",
   "execution_count": null,
   "metadata": {
    "ExecuteTime": {
     "start_time": "2024-06-02T12:15:28.552825Z"
    }
   },
   "outputs": [],
   "source": [
    "df.plot(x='b', y='a', style='o-') "
   ]
  },
  {
   "cell_type": "markdown",
   "metadata": {},
   "source": [
    "По оси абсцисс идут значения столбца b, а по оси ординат — значения столбца a. Обратите внимание, что Pandas переименовал горизонтальную ось: теперь она — b. А в легенде (списке условных обозначений на графике) осталась только линия со значениями столбца a.\n",
    "\n",
    "Ещё не всё идеально: точки упираются в края графика. Скорректируем границы параметрами **xlim** и **ylim** — с ними вы познакомились, когда изучали ящик с усами. Напомним, что параметрам **xlim** и **ylim** в скобках передают минимальное и максимальное значение. Ограничим ось абсцисс значениями от 0 до 30:\n"
   ]
  },
  {
   "cell_type": "code",
   "execution_count": null,
   "metadata": {
    "ExecuteTime": {
     "start_time": "2024-06-02T12:15:28.553883Z"
    }
   },
   "outputs": [],
   "source": [
    "df.plot(x='b', y='a', style='o-', xlim=(0, 30)) "
   ]
  },
  {
   "cell_type": "markdown",
   "metadata": {},
   "source": [
    "Добавим линии сетки: с ними будет легче понять, какие именно значения отображены. Укажем параметр **grid** (англ. «сетка, решётка»), равный **True** (это значит, что отображать сетку — нужно):"
   ]
  },
  {
   "cell_type": "code",
   "execution_count": null,
   "metadata": {
    "ExecuteTime": {
     "start_time": "2024-06-02T12:15:28.556018Z"
    }
   },
   "outputs": [],
   "source": [
    "df.plot(x='b', y='a', style='o-', xlim=(0, 30), grid=True) "
   ]
  },
  {
   "cell_type": "markdown",
   "metadata": {},
   "source": [
    "Размером графика управляют через параметр **figsize** (от англ. size of a figure — «размер фигуры»). Ширину и высоту области построения в дюймах передают параметру в скобках: **figsize = (x_size, y_size)**. Сравним графики с разными размерами:"
   ]
  },
  {
   "cell_type": "code",
   "execution_count": null,
   "metadata": {
    "ExecuteTime": {
     "start_time": "2024-06-02T12:15:28.558133Z"
    }
   },
   "outputs": [],
   "source": [
    "# строим маленький график\n",
    "df.plot(x='b', y='a', style='o-', xlim=(0, 30), grid=True, figsize=(1, 1))\n",
    "\n",
    "# строим большой график\n",
    "df.plot(x='b', y='a', style='o-', xlim=(0, 30), grid=True, figsize=(10, 3)); "
   ]
  },
  {
   "cell_type": "markdown",
   "metadata": {},
   "source": [
    "Вот вы и знаете о построении графиков так много, что справитесь с визуальным представлением срезов данных по АЗС.\n",
    "\n",
    "### Задача 1\n",
    "\n",
    "Сделайте срез из данных по АЗС с id == \"3c1e4c52\". Сохраните в переменной sample.\n",
    "Постройте график зависимости продолжительности заправки от времени заезда. За основу возьмите соответствующие столбцы **'time_spent'** и **'local_time'**. \n",
    "\n",
    "Каждый заезд должен выглядеть как отдельная точка, не соединённая линиями с другими точками. Для этого вам потребуется маркер 'o'.\n",
    "\n",
    "Ограничьте график значениями до 1000 секунд. Нарисуйте линии сетки. Увеличьте размер графика до 12 дюймов по горизонтали и 6 по вертикали.\n",
    "\n",
    "Напомним, что на прошлом занятии значения данных столбцов были скорректированы:\n",
    "\n",
    "**data['date_time'] = pd.to_datetime(data['date_time'], format='%Y-%m-%dT%H:%M:%S')**\n",
    "\n",
    "**data['local_time'] = data['date_time'] + pd.Timedelta(hours=3)**\n",
    "\n",
    "**sample = data.query('id == \"3c1e4c52\"')**\n"
   ]
  },
  {
   "cell_type": "code",
   "execution_count": null,
   "metadata": {
    "ExecuteTime": {
     "start_time": "2024-06-02T12:15:28.559210Z"
    }
   },
   "outputs": [],
   "source": [
    "data = pd.read_csv('./datasets/visits.csv', sep='\\t')\n",
    "\n",
    "try:\n",
    "    data['date_time'] = pd.to_datetime(data['date_time'], format='%Y-%m-%dT%H:%M:%S')\n",
    "except ValueError:\n",
    "    try:\n",
    "        data['date_time'] = pd.to_datetime(data['date_time'], format='ISO8601')\n",
    "    except ValueError:\n",
    "        data['date_time'] = pd.to_datetime(data['date_time'], format='mixed', dayfirst=True)\n",
    "      \n",
    "data['local_time'] = data['date_time'] + pd.Timedelta(hours=3)\n",
    "sample = data.query('id == \"3c1e4c52\"')\n",
    "sample.plot(x='time_spent', y='local_time', style='o', xlim=(0, 1000), grid=True, figsize=(12, 6))"
   ]
  },
  {
   "cell_type": "markdown",
   "metadata": {},
   "source": [
    "## Группировка с pivot_table()\n",
    "\n",
    "На графике видна структура с провалами плотности в районе ночных часов. Это кажется правдоподобным: машин и, как следствие, заправок ночью меньше.\n",
    "\n",
    "Подозрительно коротких заездов (с продолжительностью менее 100 секунд) много в любое время суток. Хотя график строили по срезу, данных будто не стало меньше. Точки сливаются, делать по ним уверенные выводы трудно. Попробуем улучшить визуальное представление группировкой данных.\n",
    "Прежде чем строить красивый график, позаботимся о красивом коде. В прошлом уроке вы сохранили срез в переменной **sample**, и к ней применили метод **plot()**.\n",
    "\n",
    "Такой код хорош, когда к sample обращаются и дальше, в будущих расчётах. А если это не так? Введение новой сущности ради построения графика путает больше, чем упрощает.\n",
    "\n",
    "Не будем множить сущности без необходимости и избавимся от промежуточных переменных. Применим метод **plot()** к результату работы **query()** безо всяких **sample**. \n",
    "\n",
    "Получится конструкция вида:\n",
    "\n",
    "**data.query().plot()** \n",
    "\n",
    "Передадим нужные параметры. Чтобы код было легко читать, запишем его в несколько строк. Так код выглядит яснее:\n",
    "\n"
   ]
  },
  {
   "cell_type": "code",
   "execution_count": null,
   "metadata": {
    "ExecuteTime": {
     "start_time": "2024-06-02T12:15:28.560273Z"
    }
   },
   "outputs": [],
   "source": [
    "data.query('id == \"3c1e4c52\"').plot(\n",
    "        x='local_time',\n",
    "        y='time_spent',\n",
    "        ylim=(0, 1000),\n",
    "        style='o',\n",
    "        grid=True,\n",
    "        figsize=(12, 6),)\n",
    "   \n",
    "\n",
    "# одна команда в несколько строк: не забыть обрамить конструкцию в скобки "
   ]
  },
  {
   "cell_type": "markdown",
   "metadata": {},
   "source": [
    "Вернёмся к данным по АЗС. На графике слишком много точек. Чтобы сделать его нагляднее, будем отмечать не визит, а среднюю продолжительность заправки в час. Вы уже создавали столбец **'date_hour'** с округлённым временем заезда на АЗС.\n",
    "Обратимся к **pivot_table()**. Добавим сводную таблицу в цепочку между **query()** и **plot()**:\n"
   ]
  },
  {
   "cell_type": "code",
   "execution_count": null,
   "metadata": {
    "ExecuteTime": {
     "start_time": "2024-06-02T12:15:28.562399Z"
    }
   },
   "outputs": [],
   "source": [
    "data['date_hour'] = data['local_time'].dt.round('1H')\n",
    "data.query('id == \"3c1e4c52\"').pivot_table(index='date_hour', values='time_spent').plot(grid=True, figsize=(12, 5))"
   ]
  },
  {
   "attachments": {
    "image.png": {
     "image/png": "[encoded data removed]"
    }
   },
   "cell_type": "markdown",
   "metadata": {},
   "source": [
    "На графике показана средняя продолжительность заправки на АЗС под номером \"3c1e4c52\" за каждый час. Обратите внимание, что в среднем водители проводят на АЗС около 500 секунд. Помня о пике гистограммы в 200 секунд, нельзя не удивиться такому значению.\n",
    "\n",
    "![image.png](attachment:image.png)"
   ]
  },
  {
   "cell_type": "markdown",
   "metadata": {},
   "source": [
    "Есть на графике и таинственный пик, когда среднее время заправки достигло 3000 секунд (почти час). Многовато. В прошлых уроках мы вообще отбрасывали заезды дольше 1000 секунд, ведь они не слишком похожи на правду. Добавим соответствующее условие в **query()**:"
   ]
  },
  {
   "cell_type": "code",
   "execution_count": null,
   "metadata": {
    "ExecuteTime": {
     "start_time": "2024-06-02T12:15:28.563486Z"
    }
   },
   "outputs": [],
   "source": [
    "data.query('id == \"3c1e4c52\" and time_spent < 1000').pivot_table(index='date_hour', values='time_spent').plot(grid=True, figsize=(12, 5))"
   ]
  },
  {
   "cell_type": "markdown",
   "metadata": {},
   "source": [
    "Средняя продолжительность заправки снизилась вполовину! Вот вы и увидели, как выбросы влияют на среднее.\n",
    "Вычислим устойчивую к выбросам медиану. В **pivot_table()** значением параметра **aggfunc** передадим **'median'**. \n",
    "\n",
    "Напомним, что в **aggfunc** передают функцию, которую применяют к значениям сводной таблицы. Например, метод **'count'** посчитает число значений в группе. Если в **aggfunc** не указать ничего, отработает расчёт среднего: **'mean'**.\n"
   ]
  },
  {
   "cell_type": "code",
   "execution_count": null,
   "metadata": {
    "ExecuteTime": {
     "start_time": "2024-06-02T12:15:28.565626Z"
    }
   },
   "outputs": [],
   "source": [
    "data.query('id == \"3c1e4c52\"').pivot_table(index='date_hour', values='time_spent', aggfunc='median').plot(grid=True, figsize=(12, 5))"
   ]
  },
  {
   "cell_type": "markdown",
   "metadata": {},
   "source": [
    "Обратите внимание, что даже без фильтра **'time_spent < 1000'** медиана дала среднюю продолжительность заправки примерно в 200 секунд. Медиана устойчива к выбросам, но всё же не безупречна: пик более 800 секунд в ночь со 2-го на 3-е апреля выглядит аномальным значением.\n",
    "\n",
    "В целом нет никакой явной связи между продолжительностью заезда и временем дня. Это странно. На этой АЗС не бывает очередей? Или что-то не так с данными? Число заездов в течение дня точно должно меняться. Проверьте это.\n"
   ]
  },
  {
   "cell_type": "markdown",
   "metadata": {},
   "source": [
    "### Задача 2. \n",
    "\n",
    "Постройте график числа заездов на АЗС с **id == \"3c1e4c52\"** по данным сводной таблицы с аргументами **index='date_hour'**, **values='time_spent'**. Параметру aggfunc установите значение **'count'**.\n",
    "Добавьте на график сетку. Задайте размер 12 на 5 дюймов в параметре **figsize**.\n"
   ]
  },
  {
   "cell_type": "code",
   "execution_count": null,
   "metadata": {
    "ExecuteTime": {
     "start_time": "2024-06-02T12:15:28.566704Z"
    }
   },
   "outputs": [],
   "source": [
    "data.query('id == \"3c1e4c52\"').pivot_table(index='date_hour', values='time_spent', aggfunc='count').plot(grid=True, figsize=(12, 5))"
   ]
  },
  {
   "cell_type": "markdown",
   "metadata": {},
   "source": [
    "# Помечаем срез данных\n",
    "\n",
    "Продолжительность заправки около 0 секунд всё ещё выглядит необъяснимо странной. Неужели такие заезды придётся отбросить? Мы уже сделали это с подозрительно долгими заправками, признав их выбросами. Однако сверхкоротких заездов гораздо больше, чем очень долгих. Если мы от них избавимся, то наверняка сильно исказим данные.\n",
    "Как много строк мы потеряем, если просто отбросим подозрительно короткие события? Посчитаем долю заездов на АЗС продолжительностью менее 60 секунд:\n"
   ]
  },
  {
   "cell_type": "code",
   "execution_count": null,
   "metadata": {
    "ExecuteTime": {
     "start_time": "2024-06-02T12:15:28.567798Z"
    }
   },
   "outputs": [],
   "source": [
    "# делим количество заездов короче 60 секунд на общее число заездов\n",
    "print(len(data.query('time_spent < 60')) / len(data))  "
   ]
  },
  {
   "cell_type": "markdown",
   "metadata": {},
   "source": [
    "Таких аномально быстрых заездов у нас 42%. Очень много.\n",
    "\n",
    "Насколько равномерно они распределены по разным АЗС? Везде около 40%? Или где-то их нет, а на каких-то АЗС много? Сгруппируем данные по АЗС и выясним, откуда взялось такое среднее.\n",
    "\n",
    "Чтобы узнать, как получилось такое среднее, строят и изучают гистограмму.\n",
    "Для каждой АЗС найдём среднее число аномально быстрых заездов. Пометим их и сгруппируем данные по АЗС. И по этим значениям уже построим гистограмму.\n"
   ]
  },
  {
   "cell_type": "markdown",
   "metadata": {},
   "source": [
    "### Задача 3\n",
    "Создайте столбец **data['too_fast']** (англ. too fast, «слишком быстрый»), со значениями:\n",
    "•\t**True** — если время заезда менее 60 секунд\n",
    "•\t**False** — если от 60 секунд\n",
    "Напечатайте первые 5 строк data.\n"
   ]
  },
  {
   "cell_type": "code",
   "execution_count": null,
   "metadata": {
    "ExecuteTime": {
     "start_time": "2024-06-02T12:15:28.569945Z"
    }
   },
   "outputs": [],
   "source": [
    "data['too_fast'] = data['time_spent'] < 60\n",
    "data['too_fast'] = data['too_fast'].astype(\"int\")\n",
    "data.head(10)"
   ]
  },
  {
   "cell_type": "markdown",
   "metadata": {},
   "source": [
    "### Задача 4\n",
    "Выведите среднее значение по столбцу 'too_fast'."
   ]
  },
  {
   "cell_type": "code",
   "execution_count": null,
   "metadata": {
    "ExecuteTime": {
     "start_time": "2024-06-02T12:15:28.571020Z"
    }
   },
   "outputs": [],
   "source": [
    "print(data['too_fast'].mean())"
   ]
  },
  {
   "cell_type": "markdown",
   "metadata": {},
   "source": [
    "### Задача 5\n",
    "Найдите долю аномально быстрых заправок для разных АЗС (т.е. разных id) — обратитесь к сводным таблицам. Создайте переменную **too_fast_stat**, в которой для каждого **id** будет доля быстрых заправок. Выведите первые 5 строк."
   ]
  },
  {
   "cell_type": "code",
   "execution_count": null,
   "metadata": {},
   "outputs": [],
   "source": [
    "too_fast_stat = pd.pivot_table(data, index='id', values=['too_fast'], aggfunc='mean')\n",
    "too_fast_stat.head(5)"
   ]
  },
  {
   "cell_type": "markdown",
   "metadata": {},
   "source": [
    "### Задача 6 \n",
    "Постройте гистограмму значений **too_fast_stat**. Поделите значения на 30 корзин."
   ]
  },
  {
   "cell_type": "code",
   "execution_count": null,
   "metadata": {
    "ExecuteTime": {
     "start_time": "2024-06-02T12:15:28.574152Z"
    }
   },
   "outputs": [],
   "source": [
    "too_fast_stat.hist(bins=30)"
   ]
  },
  {
   "cell_type": "markdown",
   "metadata": {},
   "source": [
    "Обратите внимание, что с короткими заездами всё не так радужно. Их гораздо больше. Есть АЗС, где коротких заправок большинство, а то и все 100%. "
   ]
  },
  {
   "cell_type": "markdown",
   "metadata": {},
   "source": [
    "### Задача 7\n",
    "Проблема сверхкоротких заправок зафиксирована. Проделаем то же самое с аномально долгими заправками.\n",
    "Создайте столбец **data['too_slow']**, в котором будут значения:\n",
    "•\tTrue — если время заезда более 1000 секунд;\n",
    "•\tFalse — если время заезда менее или равно 1000 секундам.\n",
    "Постройте гистограмму доли **too_slow** по разным АЗС (группируя по id). Данные для гистограммы делите на 30 корзин.\n"
   ]
  },
  {
   "cell_type": "code",
   "execution_count": null,
   "metadata": {
    "ExecuteTime": {
     "start_time": "2024-06-02T12:15:28.575260Z"
    }
   },
   "outputs": [],
   "source": [
    "data['too_slow'] = data['time_spent'] > 1000\n",
    "data['too_slow'] = data['too_slow'].astype(\"int\")\n",
    "too_slow_stat = pd.pivot_table(data, index='id', values=['too_slow'], aggfunc='mean')\n",
    "too_slow_stat.hist(bins=30)"
   ]
  },
  {
   "cell_type": "markdown",
   "metadata": {},
   "source": [
    "# Сохраняем результаты\n",
    "\n",
    "Подведём итоги исследования.\n",
    "Бывает, что заправляются долго. Причём повсюду. Только доля таких заправок невелика. В гистограммах заездов на АЗС с рекордно долгими заправками — ничего особенного, выглядят они ожидаемо.\n",
    "\n",
    "Мы решили отбросить слишком долгие заезды (более 1000 секунд), а для надёжности вместо среднего арифметического времени рассчитывать медианное. Тогда эти заезды не исказят оценку типичной продолжительности заправки.\n",
    "А вот с короткими заездами всё не так радужно. Их гораздо больше. Есть АЗС, где коротких заправок большинство, а то и все 100%. Что-то здесь не то.\n",
    "\n",
    "Ошибка в исходных данных? Сформулируем проблему, чтобы упростить поиск потенциальной ошибки в алгоритме выгрузки данных. Правильное сообщение об ошибке, или баг-репорт (от англ. bug report, «сообщение об ошибке»), должно чётко объяснять, в чём именно ошибка и как её найти.\n",
    "\n",
    "Мы часами исследовали данные, и хорошо понимаем суть проблемы. Коллеги, отвечающие за выгрузку, ничего этого не знают. Поэтому нужно чётко формулировать, где мы видим проблему. Для этого не подходит описание «слишком быстрые» или «пик около 0». Нужно быть точнее.\n",
    "\n",
    "Мы видели гистограмму и решили, что проблемные заезды — те, что короче 60 секунд. Это и нужно сказать.\n",
    "Следует сообщить, что мы видим проблему в том, что таких заправок слишком много (если бы такие заезды составляли 1% от всех данных, мы бы не сочиняли баг-репорт).\n",
    "\n",
    "Облегчим работу коллег, сфокусируем их внимание на самой проблемной АЗС — там будет легче отловить ошибку. Или понять, что это не ошибка, а какое-то пока неведомое явление.\n",
    "\n",
    "Найдём эту проблемную АЗС. Напомним, что  мы уже считали долю аномально быстрых заправок для каждой АЗС:\n"
   ]
  },
  {
   "cell_type": "code",
   "execution_count": null,
   "metadata": {
    "ExecuteTime": {
     "start_time": "2024-06-02T12:15:28.576328Z"
    }
   },
   "outputs": [],
   "source": [
    "print(too_fast_stat.sort_values('too_fast', ascending=False).head()) "
   ]
  },
  {
   "cell_type": "markdown",
   "metadata": {},
   "source": [
    "Таких АЗС, где 100% заездов аномально быстрые, оказалось целых три! Наверное, их id нужно передать коллегам, чтобы они искали ошибку. Но сперва посмотрим сами.\n",
    "Методом **describe()** оценим данные первой АЗС — **id 'c96c61cd'**:\n"
   ]
  },
  {
   "cell_type": "code",
   "execution_count": null,
   "metadata": {
    "ExecuteTime": {
     "start_time": "2024-06-02T12:15:28.577397Z"
    }
   },
   "outputs": [],
   "source": [
    "data.query('id == \"c96c61cd\"').describe() "
   ]
  },
  {
   "cell_type": "markdown",
   "metadata": {},
   "source": [
    "Всего 1 заезд. Это неудачный баг-репорт, ведь АЗС с одним заездом странная сама по себе. Если на ней и была какая-то проблема, не факт, что она массовая.\n",
    "Для баг-репорта нужна «полноценная» АЗС с достаточным числом аномально быстрых заездов. Проверив аналогично следующие id в списке, мы обнаружили, что нормальная статистика есть только по АЗС '792b6ded':\n"
   ]
  },
  {
   "cell_type": "code",
   "execution_count": null,
   "metadata": {
    "ExecuteTime": {
     "start_time": "2024-06-02T12:15:28.578498Z"
    }
   },
   "outputs": [],
   "source": [
    "data.query('id == \"792b6ded\"').describe() "
   ]
  },
  {
   "cell_type": "markdown",
   "metadata": {},
   "source": [
    "Больше 4000 заездов, но почти все очень-очень короткие. 75% укладывается в 5 секунд. Первый квартиль составляет 2 секунды. Это значит, что как минимум 25% укладывается в 2 секунды.\n",
    "Это очень удачный пример для баг-репорта. Можно передать как сам id, так и статистику по этой АЗС.\n"
   ]
  }
 ],
 "metadata": {
  "kernelspec": {
   "display_name": "Python 3 (ipykernel)",
   "language": "python",
   "name": "python3"
  },
  "language_info": {
   "codemirror_mode": {
    "name": "ipython",
    "version": 3
   },
   "file_extension": ".py",
   "mimetype": "text/x-python",
   "name": "python",
   "nbconvert_exporter": "python",
   "pygments_lexer": "ipython3",
   "version": "3.11.2"
  }
 },
 "nbformat": 4,
 "nbformat_minor": 4
}
